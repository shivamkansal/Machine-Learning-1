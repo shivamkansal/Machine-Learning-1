{
 "cells": [
  {
   "cell_type": "code",
   "execution_count": 54,
   "metadata": {},
   "outputs": [],
   "source": [
    "import numpy as np\n",
    "from sklearn import datasets\n",
    "from sklearn.model_selection import cross_val_score\n",
    "from sklearn.model_selection import train_test_split\n",
    "from sklearn.model_selection import KFold\n",
    "from sklearn.metrics import accuracy_score\n",
    "from collections import Counter"
   ]
  },
  {
   "cell_type": "code",
   "execution_count": 3,
   "metadata": {},
   "outputs": [],
   "source": [
    "#importing the dataset\n",
    "breastCancer = datasets.load_breast_cancer()\n",
    "data = breastCancer.data\n",
    "res = breastCancer.target\n",
    "\n",
    "xtrain,xtest,ytrain,ytest = train_test_split(data,res,random_state=0)\n"
   ]
  },
  {
   "cell_type": "code",
   "execution_count": 71,
   "metadata": {},
   "outputs": [
    {
     "name": "stdout",
     "output_type": "stream",
     "text": [
      "1   0.9248826291079811\n",
      "3   0.9295774647887324\n",
      "5   0.931924882629108\n",
      "7   0.931924882629108\n",
      "9   0.9295774647887324\n",
      "11   0.92018779342723\n",
      "13   0.9154929577464789\n",
      "15   0.9131455399061034\n",
      "17   0.9131455399061034\n",
      "19   0.9178403755868545\n",
      "21   0.9154929577464789\n",
      "23   0.9107981220657276\n"
     ]
    }
   ],
   "source": [
    "from sklearn.neighbors import KNeighborsClassifier\n",
    "\n",
    "x_axis = []\n",
    "y_axis = []\n",
    "#checking which set of parameters will give us the best result\n",
    "for i in range(1,25,2):\n",
    "    clf = KNeighborsClassifier(n_neighbors= i)\n",
    "    print(i,\" \",cross_val_score(clf,xtrain,ytrain).mean())\n",
    "    x_axis.append(i)\n",
    "    y_axis.append(cross_val_score(clf,xtrain,ytrain).mean())"
   ]
  },
  {
   "cell_type": "code",
   "execution_count": 35,
   "metadata": {},
   "outputs": [
    {
     "data": {
      "image/png": "[encoded data removed]",
      "text/plain": [
       "<Figure size 432x288 with 1 Axes>"
      ]
     },
     "metadata": {
      "needs_background": "light"
     },
     "output_type": "display_data"
    }
   ],
   "source": [
    "import matplotlib.pyplot as plt\n",
    "plt.plot(x_axis,y_axis,color = \"black\",marker='^')\n",
    "plt.xlabel(\"value of nearest neighbors\")\n",
    "plt.ylabel(\"cross val score\")\n",
    "plt.show()\n",
    "#max value at k = 7"
   ]
  },
  {
   "cell_type": "code",
   "execution_count": 68,
   "metadata": {},
   "outputs": [],
   "source": [
    "def train():\n",
    "    return\n",
    "\n",
    "def predictOnePoint(xtrain,ytrain,x_point,k):\n",
    "    distance = []\n",
    "    for i in range(len(xtrain)):\n",
    "        dist = ((xtrain[i,:] - x_point)**2).sum()\n",
    "        distance.append([dist,i])\n",
    "        \n",
    "    distance = sorted(distance)\n",
    "    \n",
    "    #checking k neighbors\n",
    "    result = []\n",
    "    for i in range(k):\n",
    "        index = distance[i][1]\n",
    "        result.append(ytrain[index])\n",
    "        \n",
    "    predictedClass = Counter(result).most_common(1)[0][0] #predicts the most common element in the result list\n",
    "    \n",
    "    return predictedClass\n",
    "\n",
    "def predict(xtrain,ytrain,xtest,k):\n",
    "    y_pred = []\n",
    "    for x in xtest:\n",
    "        y_pred.append(predictOnePoint(xtrain,ytrain,x,k))\n",
    "    return y_pred"
   ]
  },
  {
   "cell_type": "code",
   "execution_count": 70,
   "metadata": {},
   "outputs": [
    {
     "data": {
      "text/plain": [
       "0.9440559440559441"
      ]
     },
     "execution_count": 70,
     "metadata": {},
     "output_type": "execute_result"
    }
   ],
   "source": [
    "y_pred = predict(xtrain,ytrain,xtest,7)\n",
    "accuracy_score(ytest,y_pred)"
   ]
  },
  {
   "cell_type": "code",
   "execution_count": null,
   "metadata": {},
   "outputs": [],
   "source": []
  },
  {
   "cell_type": "code",
   "execution_count": 58,
   "metadata": {},
   "outputs": [
    {
     "data": {
      "text/plain": [
       "1"
      ]
     },
     "execution_count": 58,
     "metadata": {},
     "output_type": "execute_result"
    }
   ],
   "source": [
    "#an example of how counte works\n",
    "a = [1,2,3]\n",
    "Counter(a).most_common(1)[0][0]"
   ]
  }
 ],
 "metadata": {
  "kernelspec": {
   "display_name": "Python 3",
   "language": "python",
   "name": "python3"
  },
  "language_info": {
   "codemirror_mode": {
    "name": "ipython",
    "version": 3
   },
   "file_extension": ".py",
   "mimetype": "text/x-python",
   "name": "python",
   "nbconvert_exporter": "python",
   "pygments_lexer": "ipython3",
   "version": "3.7.0"
  }
 },
 "nbformat": 4,
 "nbformat_minor": 2
}
