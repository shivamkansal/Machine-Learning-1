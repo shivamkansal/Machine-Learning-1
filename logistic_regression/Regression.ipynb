{
 "cells": [
  {
   "cell_type": "code",
   "execution_count": 87,
   "metadata": {},
   "outputs": [],
   "source": [
    "from sklearn.linear_model import LogisticRegression\n",
    "import numpy as np\n",
    "import pandas as pd"
   ]
  },
  {
   "cell_type": "code",
   "execution_count": 9,
   "metadata": {},
   "outputs": [
    {
     "data": {
      "text/plain": [
       "7"
      ]
     },
     "execution_count": 9,
     "metadata": {},
     "output_type": "execute_result"
    }
   ],
   "source": []
  },
  {
   "cell_type": "code",
   "execution_count": 88,
   "metadata": {},
   "outputs": [
    {
     "data": {
      "text/plain": [
       "((667, 4), (667,))"
      ]
     },
     "execution_count": 88,
     "metadata": {},
     "output_type": "execute_result"
    }
   ],
   "source": [
    "data = np.genfromtxt(\"train_final.csv\",delimiter=\",\")\n",
    "x_train = data[:,0:data.shape[1] - 1]\n",
    "y_train = data[:,data.shape[1]-1]\n",
    "\n",
    "x_train.shape,y_train.shape"
   ]
  },
  {
   "cell_type": "code",
   "execution_count": 89,
   "metadata": {},
   "outputs": [
    {
     "data": {
      "text/html": [
       "<div>\n",
       "<style scoped>\n",
       "    .dataframe tbody tr th:only-of-type {\n",
       "        vertical-align: middle;\n",
       "    }\n",
       "\n",
       "    .dataframe tbody tr th {\n",
       "        vertical-align: top;\n",
       "    }\n",
       "\n",
       "    .dataframe thead th {\n",
       "        text-align: right;\n",
       "    }\n",
       "</style>\n",
       "<table border=\"1\" class=\"dataframe\">\n",
       "  <thead>\n",
       "    <tr style=\"text-align: right;\">\n",
       "      <th></th>\n",
       "      <th>0</th>\n",
       "      <th>1</th>\n",
       "      <th>2</th>\n",
       "      <th>3</th>\n",
       "    </tr>\n",
       "  </thead>\n",
       "  <tbody>\n",
       "    <tr>\n",
       "      <th>0</th>\n",
       "      <td>2.0</td>\n",
       "      <td>29.000000</td>\n",
       "      <td>0.0</td>\n",
       "      <td>1.0</td>\n",
       "    </tr>\n",
       "    <tr>\n",
       "      <th>1</th>\n",
       "      <td>3.0</td>\n",
       "      <td>30.857143</td>\n",
       "      <td>1.0</td>\n",
       "      <td>1.0</td>\n",
       "    </tr>\n",
       "    <tr>\n",
       "      <th>2</th>\n",
       "      <td>2.0</td>\n",
       "      <td>39.000000</td>\n",
       "      <td>1.0</td>\n",
       "      <td>1.0</td>\n",
       "    </tr>\n",
       "    <tr>\n",
       "      <th>3</th>\n",
       "      <td>3.0</td>\n",
       "      <td>29.000000</td>\n",
       "      <td>0.0</td>\n",
       "      <td>1.0</td>\n",
       "    </tr>\n",
       "    <tr>\n",
       "      <th>4</th>\n",
       "      <td>3.0</td>\n",
       "      <td>25.000000</td>\n",
       "      <td>1.0</td>\n",
       "      <td>1.0</td>\n",
       "    </tr>\n",
       "  </tbody>\n",
       "</table>\n",
       "</div>"
      ],
      "text/plain": [
       "     0          1    2    3\n",
       "0  2.0  29.000000  0.0  1.0\n",
       "1  3.0  30.857143  1.0  1.0\n",
       "2  2.0  39.000000  1.0  1.0\n",
       "3  3.0  29.000000  0.0  1.0\n",
       "4  3.0  25.000000  1.0  1.0"
      ]
     },
     "execution_count": 89,
     "metadata": {},
     "output_type": "execute_result"
    }
   ],
   "source": [
    "df = pd.DataFrame(x_train)\n",
    "df.head()"
   ]
  },
  {
   "cell_type": "code",
   "execution_count": 90,
   "metadata": {},
   "outputs": [],
   "source": [
    "from sklearn import preprocessing\n",
    "scaler = preprocessing.MinMaxScaler()\n",
    "#scaler = preprocessing.StandardScaler()\n",
    "XTRAIN = scaler.fit_transform(x_train)\n"
   ]
  },
  {
   "cell_type": "code",
   "execution_count": 91,
   "metadata": {},
   "outputs": [
    {
     "data": {
      "text/html": [
       "<div>\n",
       "<style scoped>\n",
       "    .dataframe tbody tr th:only-of-type {\n",
       "        vertical-align: middle;\n",
       "    }\n",
       "\n",
       "    .dataframe tbody tr th {\n",
       "        vertical-align: top;\n",
       "    }\n",
       "\n",
       "    .dataframe thead th {\n",
       "        text-align: right;\n",
       "    }\n",
       "</style>\n",
       "<table border=\"1\" class=\"dataframe\">\n",
       "  <thead>\n",
       "    <tr style=\"text-align: right;\">\n",
       "      <th></th>\n",
       "      <th>0</th>\n",
       "      <th>1</th>\n",
       "      <th>2</th>\n",
       "      <th>3</th>\n",
       "    </tr>\n",
       "  </thead>\n",
       "  <tbody>\n",
       "    <tr>\n",
       "      <th>0</th>\n",
       "      <td>0.5</td>\n",
       "      <td>0.357116</td>\n",
       "      <td>0.0</td>\n",
       "      <td>0.0</td>\n",
       "    </tr>\n",
       "    <tr>\n",
       "      <th>1</th>\n",
       "      <td>1.0</td>\n",
       "      <td>0.380526</td>\n",
       "      <td>1.0</td>\n",
       "      <td>0.0</td>\n",
       "    </tr>\n",
       "    <tr>\n",
       "      <th>2</th>\n",
       "      <td>0.5</td>\n",
       "      <td>0.483172</td>\n",
       "      <td>1.0</td>\n",
       "      <td>0.0</td>\n",
       "    </tr>\n",
       "    <tr>\n",
       "      <th>3</th>\n",
       "      <td>1.0</td>\n",
       "      <td>0.357116</td>\n",
       "      <td>0.0</td>\n",
       "      <td>0.0</td>\n",
       "    </tr>\n",
       "    <tr>\n",
       "      <th>4</th>\n",
       "      <td>1.0</td>\n",
       "      <td>0.306694</td>\n",
       "      <td>1.0</td>\n",
       "      <td>0.0</td>\n",
       "    </tr>\n",
       "  </tbody>\n",
       "</table>\n",
       "</div>"
      ],
      "text/plain": [
       "     0         1    2    3\n",
       "0  0.5  0.357116  0.0  0.0\n",
       "1  1.0  0.380526  1.0  0.0\n",
       "2  0.5  0.483172  1.0  0.0\n",
       "3  1.0  0.357116  0.0  0.0\n",
       "4  1.0  0.306694  1.0  0.0"
      ]
     },
     "execution_count": 91,
     "metadata": {},
     "output_type": "execute_result"
    }
   ],
   "source": [
    "df = pd.DataFrame(XTRAIN)\n",
    "df.head()"
   ]
  },
  {
   "cell_type": "code",
   "execution_count": null,
   "metadata": {},
   "outputs": [],
   "source": []
  },
  {
   "cell_type": "code",
   "execution_count": 93,
   "metadata": {},
   "outputs": [],
   "source": [
    "#complex boundary\n",
    "M = df.columns.shape[0]\n",
    "for i in range(M):\n",
    "    df[str(i+1) + \"_2\"] = df[i]*df[i]"
   ]
  },
  {
   "cell_type": "code",
   "execution_count": 94,
   "metadata": {},
   "outputs": [],
   "source": [
    "df.head()\n",
    "XTRAIN = df.values"
   ]
  },
  {
   "cell_type": "code",
   "execution_count": 95,
   "metadata": {},
   "outputs": [
    {
     "data": {
      "text/plain": [
       "(667, 8)"
      ]
     },
     "execution_count": 95,
     "metadata": {},
     "output_type": "execute_result"
    }
   ],
   "source": [
    "XTRAIN.shape"
   ]
  },
  {
   "cell_type": "code",
   "execution_count": 96,
   "metadata": {},
   "outputs": [],
   "source": [
    "from sklearn import model_selection\n",
    "xtrain,xtest,ytrain,ytest = model_selection.train_test_split(XTRAIN,y_train,random_state=0)"
   ]
  },
  {
   "cell_type": "code",
   "execution_count": 99,
   "metadata": {},
   "outputs": [
    {
     "data": {
      "text/plain": [
       "LogisticRegression(C=3, class_weight=None, dual=False, fit_intercept=True,\n",
       "          intercept_scaling=1, max_iter=5000, multi_class='ovr', n_jobs=1,\n",
       "          penalty='l2', random_state=None, solver='sag', tol=0.0001,\n",
       "          verbose=0, warm_start=False)"
      ]
     },
     "execution_count": 99,
     "metadata": {},
     "output_type": "execute_result"
    }
   ],
   "source": [
    "alg = LogisticRegression(C=3,penalty='l2',solver='sag',max_iter=5000)\n",
    "alg.fit(xtrain,ytrain)"
   ]
  },
  {
   "cell_type": "code",
   "execution_count": 100,
   "metadata": {},
   "outputs": [
    {
     "data": {
      "text/plain": [
       "(0.844311377245509, 0.78)"
      ]
     },
     "execution_count": 100,
     "metadata": {},
     "output_type": "execute_result"
    }
   ],
   "source": [
    "alg.score(xtest,ytest),alg.score(xtrain,ytrain)"
   ]
  },
  {
   "cell_type": "code",
   "execution_count": 61,
   "metadata": {
    "collapsed": true
   },
   "outputs": [
    {
     "data": {
      "text/plain": [
       "array([ 0.,  1.,  0.,  0.,  0.,  0.,  0.,  0.,  0.,  0., -1., -1., -1.,\n",
       "        0.,  0.,  0.,  0.,  0.,  0.,  0.,  0.,  0., -1.,  0.,  0.,  0.,\n",
       "        0., -1.,  0.,  0.,  0.,  0.,  0.,  0.,  0.,  0.,  0.,  0.,  1.,\n",
       "        0.,  0.,  1.,  0.,  0., -1.,  0.,  0.,  1.,  0.,  1.,  0.,  0.,\n",
       "       -1.,  0.,  0.,  0.,  0.,  0.,  0.,  0.,  0.,  0.,  0., -1.,  1.,\n",
       "        0.,  0.,  0.,  0.,  0.,  0., -1.,  0.,  0., -1.,  0., -1.,  0.,\n",
       "        0.,  0.,  0.,  0.,  1.,  0.,  0.,  0., -1.,  0.,  0.,  0.,  0.,\n",
       "       -1.,  0.,  0.,  0., -1.,  0.,  0.,  0.,  0.,  1.,  0.,  0.,  1.,\n",
       "       -1.,  0.,  0.,  0., -1.,  0.,  0., -1.,  1.,  0., -1., -1.,  0.,\n",
       "        0.,  1.,  0., -1.,  0.,  0., -1.,  0.,  0., -1.,  0.,  0.,  0.,\n",
       "        0.,  0.,  0.,  1., -1.,  0.,  1.,  0.,  0.,  0.,  0.,  0.,  0.,\n",
       "        0.,  0.,  0.,  0., -1.,  0.,  1.,  0.,  0.,  0.,  0.,  0.,  0.,\n",
       "        0.,  0.,  0.,  0.,  1.,  0.,  0.,  0., -1.,  0.,  0., -1.,  0.,\n",
       "        0.,  0.,  0.,  0.,  0.,  0.,  0.,  0.,  0., -1.,  0.,  1.,  0.,\n",
       "        0.,  0.,  0.,  0.,  0.,  1.,  0.,  0.,  0.,  0.,  1.,  0.,  0.,\n",
       "        0.,  0.,  0.,  0.,  0.,  0.,  0.,  0.,  0.,  0.,  0.,  0., -1.,\n",
       "        0.,  0.,  0.,  0.,  0.,  0.,  0., -1.,  0.,  0.,  0.,  0.,  0.,\n",
       "        0.,  0.,  0.,  0.,  0.,  0., -1.,  0.,  0.,  0.,  0.,  0.,  0.,\n",
       "        0.,  0.,  0.,  0.,  0.,  0.,  0.,  0.,  0.,  0.,  1., -1.,  0.,\n",
       "        1.,  0., -1.,  0.,  0., -1.,  0.,  0.,  0.,  0.,  0.,  0.,  0.,\n",
       "        0.,  0.,  0.,  0.,  0.,  0.,  0.,  0.,  0., -1.,  0., -1.,  0.,\n",
       "        0.,  0.,  0.,  0.,  0.,  0.,  0., -1.,  0.,  0.,  0.,  0.,  0.,\n",
       "        0.,  0.,  0.,  0.,  0., -1.,  0.,  1.,  0.,  0.,  1.,  0.,  0.,\n",
       "        0.,  0.,  0.,  1.,  0.,  0.,  0.,  0.,  0.,  0., -1., -1.,  0.,\n",
       "        0., -1.,  1.,  0.,  0.,  0.,  0.,  0.,  0.,  0.,  0., -1.,  0.,\n",
       "        0.,  0.,  0.,  0.,  0.,  0.,  0.,  0.,  0.,  0.,  0.,  0.,  0.,\n",
       "        0.,  0.,  0.,  0.,  0.,  0.,  0.,  0.,  0.,  0.,  1., -1.,  0.,\n",
       "       -1.,  0.,  0.,  1.,  0., -1.,  0.,  0.,  0.,  0., -1.,  0.,  1.,\n",
       "        0.,  0.,  0.,  0.,  0.,  0.,  1.,  0., -1., -1.,  0.,  0.,  0.,\n",
       "        0.,  1.,  0.,  0.,  0.,  0.,  0.,  0.,  0.,  1.,  0.,  0., -1.,\n",
       "        0.,  0.,  0.,  0.,  0.,  0., -1.,  0.,  1.,  0.,  0.,  0.,  0.,\n",
       "        0.,  0.,  0.,  0., -1.,  0.,  0.,  1.,  0., -1.,  1.,  0.,  0.,\n",
       "        0.,  0.,  0.,  0.,  0.,  0.,  1.,  0.,  0.,  0.,  0., -1.,  0.,\n",
       "        0., -1.,  1.,  0.,  0.,  0.,  0.,  0.,  0.,  0., -1.,  0.,  0.,\n",
       "        0.,  0.,  0.,  1.,  0.,  0.,  1.,  0.,  0.,  0.,  0.,  0., -1.,\n",
       "       -1.,  0.,  0.,  0.,  0.,  0.,  0.,  0.,  0.,  0.,  0., -1.,  0.,\n",
       "        0.,  0.,  0.,  1., -1., -1.,  0.,  0.,  0.,  0.,  0.,  0.,  0.,\n",
       "        0.,  0.,  0.,  0.,  0.,  0.,  0.,  0.,  0.,  0.,  0.,  0.,  1.,\n",
       "        0., -1.,  1.,  0., -1.,  0.])"
      ]
     },
     "execution_count": 61,
     "metadata": {},
     "output_type": "execute_result"
    }
   ],
   "source": [
    "alg.predict(xtrain) - ytrain"
   ]
  },
  {
   "cell_type": "code",
   "execution_count": 50,
   "metadata": {
    "collapsed": true
   },
   "outputs": [
    {
     "data": {
      "text/plain": [
       "array([[0.3559151 , 0.6440849 ],\n",
       "       [0.88094092, 0.11905908],\n",
       "       [0.35206571, 0.64793429],\n",
       "       [0.09758586, 0.90241414],\n",
       "       [0.45490229, 0.54509771],\n",
       "       [0.88094092, 0.11905908],\n",
       "       [0.46823076, 0.53176924],\n",
       "       [0.88094092, 0.11905908],\n",
       "       [0.11550654, 0.88449346],\n",
       "       [0.29039656, 0.70960344],\n",
       "       [0.86591952, 0.13408048],\n",
       "       [0.10888422, 0.89111578],\n",
       "       [0.8014884 , 0.1985116 ],\n",
       "       [0.55206832, 0.44793168],\n",
       "       [0.80705594, 0.19294406],\n",
       "       [0.20108686, 0.79891314],\n",
       "       [0.86774347, 0.13225653],\n",
       "       [0.91698153, 0.08301847],\n",
       "       [0.28265579, 0.71734421],\n",
       "       [0.15673566, 0.84326434],\n",
       "       [0.36039471, 0.63960529],\n",
       "       [0.48844026, 0.51155974],\n",
       "       [0.13927156, 0.86072844],\n",
       "       [0.93269141, 0.06730859],\n",
       "       [0.73126785, 0.26873215],\n",
       "       [0.81387002, 0.18612998],\n",
       "       [0.14793508, 0.85206492],\n",
       "       [0.10215717, 0.89784283],\n",
       "       [0.68187845, 0.31812155],\n",
       "       [0.18763242, 0.81236758],\n",
       "       [0.88992136, 0.11007864],\n",
       "       [0.86351489, 0.13648511],\n",
       "       [0.88094092, 0.11905908],\n",
       "       [0.54998294, 0.45001706],\n",
       "       [0.66241022, 0.33758978],\n",
       "       [0.71009947, 0.28990053],\n",
       "       [0.72246099, 0.27753901],\n",
       "       [0.53467625, 0.46532375],\n",
       "       [0.29715933, 0.70284067],\n",
       "       [0.82693816, 0.17306184],\n",
       "       [0.93399993, 0.06600007],\n",
       "       [0.88094092, 0.11905908],\n",
       "       [0.60867425, 0.39132575],\n",
       "       [0.85088154, 0.14911846],\n",
       "       [0.477363  , 0.522637  ],\n",
       "       [0.5109645 , 0.4890355 ],\n",
       "       [0.82049698, 0.17950302],\n",
       "       [0.3761411 , 0.6238589 ],\n",
       "       [0.06500758, 0.93499242],\n",
       "       [0.52429001, 0.47570999],\n",
       "       [0.38510519, 0.61489481],\n",
       "       [0.72392927, 0.27607073],\n",
       "       [0.11041134, 0.88958866],\n",
       "       [0.83801579, 0.16198421],\n",
       "       [0.61117164, 0.38882836],\n",
       "       [0.86774347, 0.13225653],\n",
       "       [0.82008825, 0.17991175],\n",
       "       [0.91168083, 0.08831917],\n",
       "       [0.82049698, 0.17950302],\n",
       "       [0.47929044, 0.52070956],\n",
       "       [0.91102127, 0.08897873],\n",
       "       [0.42136006, 0.57863994],\n",
       "       [0.12110887, 0.87889113],\n",
       "       [0.18234165, 0.81765835],\n",
       "       [0.93705955, 0.06294045],\n",
       "       [0.13087484, 0.86912516],\n",
       "       [0.81387002, 0.18612998],\n",
       "       [0.79705805, 0.20294195],\n",
       "       [0.86774347, 0.13225653],\n",
       "       [0.79286254, 0.20713746],\n",
       "       [0.34812699, 0.65187301],\n",
       "       [0.80705594, 0.19294406],\n",
       "       [0.30653214, 0.69346786],\n",
       "       [0.41087046, 0.58912954],\n",
       "       [0.1623114 , 0.8376886 ],\n",
       "       [0.78232755, 0.21767245],\n",
       "       [0.5109645 , 0.4890355 ],\n",
       "       [0.5109645 , 0.4890355 ],\n",
       "       [0.1717268 , 0.8282732 ],\n",
       "       [0.8331952 , 0.1668048 ],\n",
       "       [0.13087484, 0.86912516],\n",
       "       [0.04374932, 0.95625068],\n",
       "       [0.83497624, 0.16502376],\n",
       "       [0.85005547, 0.14994453],\n",
       "       [0.90229831, 0.09770169],\n",
       "       [0.60495118, 0.39504882],\n",
       "       [0.1717268 , 0.8282732 ],\n",
       "       [0.44024937, 0.55975063],\n",
       "       [0.4283134 , 0.5716866 ],\n",
       "       [0.40910065, 0.59089935],\n",
       "       [0.9453497 , 0.0546503 ],\n",
       "       [0.80005369, 0.19994631],\n",
       "       [0.86774347, 0.13225653],\n",
       "       [0.18096387, 0.81903613],\n",
       "       [0.73548222, 0.26451778],\n",
       "       [0.22819413, 0.77180587],\n",
       "       [0.2234648 , 0.7765352 ],\n",
       "       [0.70088264, 0.29911736],\n",
       "       [0.14793508, 0.85206492],\n",
       "       [0.30650732, 0.69349268],\n",
       "       [0.88094092, 0.11905908],\n",
       "       [0.386607  , 0.613393  ],\n",
       "       [0.94759688, 0.05240312],\n",
       "       [0.91393134, 0.08606866],\n",
       "       [0.0487961 , 0.9512039 ],\n",
       "       [0.25470341, 0.74529659],\n",
       "       [0.35705882, 0.64294118],\n",
       "       [0.90286944, 0.09713056],\n",
       "       [0.68340715, 0.31659285],\n",
       "       [0.32162582, 0.67837418],\n",
       "       [0.92109681, 0.07890319],\n",
       "       [0.34494304, 0.65505696],\n",
       "       [0.85088154, 0.14911846],\n",
       "       [0.82693816, 0.17306184],\n",
       "       [0.7134786 , 0.2865214 ],\n",
       "       [0.86774347, 0.13225653],\n",
       "       [0.82693816, 0.17306184],\n",
       "       [0.89890886, 0.10109114],\n",
       "       [0.88094092, 0.11905908],\n",
       "       [0.57685678, 0.42314322],\n",
       "       [0.08031374, 0.91968626],\n",
       "       [0.06274352, 0.93725648],\n",
       "       [0.95333473, 0.04666527],\n",
       "       [0.84516464, 0.15483536],\n",
       "       [0.72272328, 0.27727672],\n",
       "       [0.17819897, 0.82180103],\n",
       "       [0.88094092, 0.11905908],\n",
       "       [0.89055607, 0.10944393],\n",
       "       [0.16550837, 0.83449163],\n",
       "       [0.55206832, 0.44793168],\n",
       "       [0.88615672, 0.11384328],\n",
       "       [0.61661556, 0.38338444],\n",
       "       [0.06346045, 0.93653955],\n",
       "       [0.54569483, 0.45430517],\n",
       "       [0.71009947, 0.28990053],\n",
       "       [0.05501904, 0.94498096],\n",
       "       [0.08031374, 0.91968626],\n",
       "       [0.8792691 , 0.1207309 ],\n",
       "       [0.90984565, 0.09015435],\n",
       "       [0.48082027, 0.51917973],\n",
       "       [0.65961077, 0.34038923],\n",
       "       [0.81912787, 0.18087213],\n",
       "       [0.36075139, 0.63924861],\n",
       "       [0.80705594, 0.19294406],\n",
       "       [0.27841047, 0.72158953],\n",
       "       [0.86774347, 0.13225653],\n",
       "       [0.0999612 , 0.9000388 ],\n",
       "       [0.88636286, 0.11363714],\n",
       "       [0.82374069, 0.17625931],\n",
       "       [0.30385817, 0.69614183],\n",
       "       [0.88615672, 0.11384328],\n",
       "       [0.4062795 , 0.5937205 ],\n",
       "       [0.8684691 , 0.1315309 ],\n",
       "       [0.21557891, 0.78442109],\n",
       "       [0.84516464, 0.15483536],\n",
       "       [0.67944358, 0.32055642],\n",
       "       [0.69243803, 0.30756197],\n",
       "       [0.85332668, 0.14667332],\n",
       "       [0.39999912, 0.60000088],\n",
       "       [0.92056939, 0.07943061],\n",
       "       [0.67021286, 0.32978714],\n",
       "       [0.62166059, 0.37833941],\n",
       "       [0.92383971, 0.07616029],\n",
       "       [0.66682546, 0.33317454],\n",
       "       [0.85088154, 0.14911846],\n",
       "       [0.81387002, 0.18612998],\n",
       "       [0.90287269, 0.09712731]])"
      ]
     },
     "execution_count": 50,
     "metadata": {},
     "output_type": "execute_result"
    }
   ],
   "source": [
    "alg.predict_proba(xtest)"
   ]
  },
  {
   "cell_type": "code",
   "execution_count": 84,
   "metadata": {},
   "outputs": [
    {
     "data": {
      "text/plain": [
       "LogisticRegression(C=30, class_weight=None, dual=False, fit_intercept=True,\n",
       "          intercept_scaling=1, max_iter=5000, multi_class='ovr', n_jobs=1,\n",
       "          penalty='l2', random_state=None, solver='sag', tol=0.0001,\n",
       "          verbose=0, warm_start=False)"
      ]
     },
     "execution_count": 84,
     "metadata": {},
     "output_type": "execute_result"
    }
   ],
   "source": [
    "alg1 = LogisticRegression(C = 30,max_iter=5000,solver='sag')\n",
    "alg1.fit(XTRAIN,y_train)"
   ]
  },
  {
   "cell_type": "code",
   "execution_count": 77,
   "metadata": {},
   "outputs": [],
   "source": [
    "test = np.genfromtxt(\"test_final.csv\",delimiter=\",\")\n",
    "TEST = scaler.transform(test)"
   ]
  },
  {
   "cell_type": "code",
   "execution_count": 78,
   "metadata": {},
   "outputs": [
    {
     "data": {
      "text/html": [
       "<div>\n",
       "<style scoped>\n",
       "    .dataframe tbody tr th:only-of-type {\n",
       "        vertical-align: middle;\n",
       "    }\n",
       "\n",
       "    .dataframe tbody tr th {\n",
       "        vertical-align: top;\n",
       "    }\n",
       "\n",
       "    .dataframe thead th {\n",
       "        text-align: right;\n",
       "    }\n",
       "</style>\n",
       "<table border=\"1\" class=\"dataframe\">\n",
       "  <thead>\n",
       "    <tr style=\"text-align: right;\">\n",
       "      <th></th>\n",
       "      <th>0</th>\n",
       "      <th>1</th>\n",
       "      <th>2</th>\n",
       "      <th>3</th>\n",
       "      <th>4</th>\n",
       "      <th>5</th>\n",
       "    </tr>\n",
       "  </thead>\n",
       "  <tbody>\n",
       "    <tr>\n",
       "      <th>0</th>\n",
       "      <td>0.5</td>\n",
       "      <td>0.092399</td>\n",
       "      <td>0.125</td>\n",
       "      <td>0.166667</td>\n",
       "      <td>1.0</td>\n",
       "      <td>0.0</td>\n",
       "    </tr>\n",
       "    <tr>\n",
       "      <th>1</th>\n",
       "      <td>0.0</td>\n",
       "      <td>0.609227</td>\n",
       "      <td>0.000</td>\n",
       "      <td>0.000000</td>\n",
       "      <td>0.0</td>\n",
       "      <td>0.0</td>\n",
       "    </tr>\n",
       "    <tr>\n",
       "      <th>2</th>\n",
       "      <td>1.0</td>\n",
       "      <td>0.365874</td>\n",
       "      <td>0.000</td>\n",
       "      <td>0.000000</td>\n",
       "      <td>1.0</td>\n",
       "      <td>0.5</td>\n",
       "    </tr>\n",
       "    <tr>\n",
       "      <th>3</th>\n",
       "      <td>0.5</td>\n",
       "      <td>0.294088</td>\n",
       "      <td>0.250</td>\n",
       "      <td>0.166667</td>\n",
       "      <td>0.0</td>\n",
       "      <td>0.0</td>\n",
       "    </tr>\n",
       "    <tr>\n",
       "      <th>4</th>\n",
       "      <td>0.0</td>\n",
       "      <td>0.445355</td>\n",
       "      <td>0.000</td>\n",
       "      <td>0.000000</td>\n",
       "      <td>1.0</td>\n",
       "      <td>0.0</td>\n",
       "    </tr>\n",
       "  </tbody>\n",
       "</table>\n",
       "</div>"
      ],
      "text/plain": [
       "     0         1      2         3    4    5\n",
       "0  0.5  0.092399  0.125  0.166667  1.0  0.0\n",
       "1  0.0  0.609227  0.000  0.000000  0.0  0.0\n",
       "2  1.0  0.365874  0.000  0.000000  1.0  0.5\n",
       "3  0.5  0.294088  0.250  0.166667  0.0  0.0\n",
       "4  0.0  0.445355  0.000  0.000000  1.0  0.0"
      ]
     },
     "execution_count": 78,
     "metadata": {},
     "output_type": "execute_result"
    }
   ],
   "source": [
    "df1 = pd.DataFrame(TEST)\n",
    "df1.head()"
   ]
  },
  {
   "cell_type": "code",
   "execution_count": 79,
   "metadata": {},
   "outputs": [],
   "source": [
    "#complex boundary\n",
    "M = df1.columns.shape[0]\n",
    "for i in range(M):\n",
    "    df1[str(i+1) + \"_2\"] = df1[i]*df1[i]"
   ]
  },
  {
   "cell_type": "code",
   "execution_count": 80,
   "metadata": {},
   "outputs": [
    {
     "data": {
      "text/html": [
       "<div>\n",
       "<style scoped>\n",
       "    .dataframe tbody tr th:only-of-type {\n",
       "        vertical-align: middle;\n",
       "    }\n",
       "\n",
       "    .dataframe tbody tr th {\n",
       "        vertical-align: top;\n",
       "    }\n",
       "\n",
       "    .dataframe thead th {\n",
       "        text-align: right;\n",
       "    }\n",
       "</style>\n",
       "<table border=\"1\" class=\"dataframe\">\n",
       "  <thead>\n",
       "    <tr style=\"text-align: right;\">\n",
       "      <th></th>\n",
       "      <th>0</th>\n",
       "      <th>1</th>\n",
       "      <th>2</th>\n",
       "      <th>3</th>\n",
       "      <th>4</th>\n",
       "      <th>5</th>\n",
       "      <th>1_2</th>\n",
       "      <th>2_2</th>\n",
       "      <th>3_2</th>\n",
       "      <th>4_2</th>\n",
       "      <th>5_2</th>\n",
       "      <th>6_2</th>\n",
       "    </tr>\n",
       "  </thead>\n",
       "  <tbody>\n",
       "    <tr>\n",
       "      <th>0</th>\n",
       "      <td>0.5</td>\n",
       "      <td>0.092399</td>\n",
       "      <td>0.125</td>\n",
       "      <td>0.166667</td>\n",
       "      <td>1.0</td>\n",
       "      <td>0.0</td>\n",
       "      <td>0.25</td>\n",
       "      <td>0.008538</td>\n",
       "      <td>0.015625</td>\n",
       "      <td>0.027778</td>\n",
       "      <td>1.0</td>\n",
       "      <td>0.00</td>\n",
       "    </tr>\n",
       "    <tr>\n",
       "      <th>1</th>\n",
       "      <td>0.0</td>\n",
       "      <td>0.609227</td>\n",
       "      <td>0.000</td>\n",
       "      <td>0.000000</td>\n",
       "      <td>0.0</td>\n",
       "      <td>0.0</td>\n",
       "      <td>0.00</td>\n",
       "      <td>0.371158</td>\n",
       "      <td>0.000000</td>\n",
       "      <td>0.000000</td>\n",
       "      <td>0.0</td>\n",
       "      <td>0.00</td>\n",
       "    </tr>\n",
       "    <tr>\n",
       "      <th>2</th>\n",
       "      <td>1.0</td>\n",
       "      <td>0.365874</td>\n",
       "      <td>0.000</td>\n",
       "      <td>0.000000</td>\n",
       "      <td>1.0</td>\n",
       "      <td>0.5</td>\n",
       "      <td>1.00</td>\n",
       "      <td>0.133864</td>\n",
       "      <td>0.000000</td>\n",
       "      <td>0.000000</td>\n",
       "      <td>1.0</td>\n",
       "      <td>0.25</td>\n",
       "    </tr>\n",
       "    <tr>\n",
       "      <th>3</th>\n",
       "      <td>0.5</td>\n",
       "      <td>0.294088</td>\n",
       "      <td>0.250</td>\n",
       "      <td>0.166667</td>\n",
       "      <td>0.0</td>\n",
       "      <td>0.0</td>\n",
       "      <td>0.25</td>\n",
       "      <td>0.086488</td>\n",
       "      <td>0.062500</td>\n",
       "      <td>0.027778</td>\n",
       "      <td>0.0</td>\n",
       "      <td>0.00</td>\n",
       "    </tr>\n",
       "    <tr>\n",
       "      <th>4</th>\n",
       "      <td>0.0</td>\n",
       "      <td>0.445355</td>\n",
       "      <td>0.000</td>\n",
       "      <td>0.000000</td>\n",
       "      <td>1.0</td>\n",
       "      <td>0.0</td>\n",
       "      <td>0.00</td>\n",
       "      <td>0.198341</td>\n",
       "      <td>0.000000</td>\n",
       "      <td>0.000000</td>\n",
       "      <td>1.0</td>\n",
       "      <td>0.00</td>\n",
       "    </tr>\n",
       "  </tbody>\n",
       "</table>\n",
       "</div>"
      ],
      "text/plain": [
       "     0         1      2         3    4    5   1_2       2_2       3_2  \\\n",
       "0  0.5  0.092399  0.125  0.166667  1.0  0.0  0.25  0.008538  0.015625   \n",
       "1  0.0  0.609227  0.000  0.000000  0.0  0.0  0.00  0.371158  0.000000   \n",
       "2  1.0  0.365874  0.000  0.000000  1.0  0.5  1.00  0.133864  0.000000   \n",
       "3  0.5  0.294088  0.250  0.166667  0.0  0.0  0.25  0.086488  0.062500   \n",
       "4  0.0  0.445355  0.000  0.000000  1.0  0.0  0.00  0.198341  0.000000   \n",
       "\n",
       "        4_2  5_2   6_2  \n",
       "0  0.027778  1.0  0.00  \n",
       "1  0.000000  0.0  0.00  \n",
       "2  0.000000  1.0  0.25  \n",
       "3  0.027778  0.0  0.00  \n",
       "4  0.000000  1.0  0.00  "
      ]
     },
     "execution_count": 80,
     "metadata": {},
     "output_type": "execute_result"
    }
   ],
   "source": [
    "df1.head()"
   ]
  },
  {
   "cell_type": "code",
   "execution_count": 81,
   "metadata": {},
   "outputs": [
    {
     "data": {
      "text/plain": [
       "(223, 12)"
      ]
     },
     "execution_count": 81,
     "metadata": {},
     "output_type": "execute_result"
    }
   ],
   "source": [
    "TEST = df1.values\n",
    "TEST.shape"
   ]
  },
  {
   "cell_type": "code",
   "execution_count": 85,
   "metadata": {},
   "outputs": [],
   "source": [
    "y_pred = alg1.predict(TEST)"
   ]
  },
  {
   "cell_type": "code",
   "execution_count": 86,
   "metadata": {},
   "outputs": [],
   "source": [
    "np.savetxt(\"predictions.csv\",y_pred, delimiter=\",\", fmt='%s')"
   ]
  }
 ],
 "metadata": {
  "kernelspec": {
   "display_name": "Python 3",
   "language": "python",
   "name": "python3"
  },
  "language_info": {
   "codemirror_mode": {
    "name": "ipython",
    "version": 3
   },
   "file_extension": ".py",
   "mimetype": "text/x-python",
   "name": "python",
   "nbconvert_exporter": "python",
   "pygments_lexer": "ipython3",
   "version": "3.7.0"
  }
 },
 "nbformat": 4,
 "nbformat_minor": 2
}
